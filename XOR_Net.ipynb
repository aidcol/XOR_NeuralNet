{
 "cells": [
  {
   "cell_type": "code",
   "execution_count": 15,
   "metadata": {},
   "outputs": [],
   "source": [
    "# Imports\n",
    "import numpy as np\n",
    "import matplotlib.pyplot as plt\n",
    "\n",
    "np.random.seed(2022)    # Set seed for reproducibility\n",
    "\n",
    "class XOR_Net:\n",
    "    # Training data\n",
    "    XOR_INPUTS = np.array([\n",
    "        [0, 0],\n",
    "        [1, 0],\n",
    "        [0, 1],\n",
    "        [1, 1]\n",
    "    ])\n",
    "\n",
    "    # Labels for training data\n",
    "    XOR_OUTPUTS = np.array([\n",
    "        [0],\n",
    "        [1],\n",
    "        [1],\n",
    "        [0]\n",
    "    ])\n",
    "\n",
    "    NUM_EXAMPLES = XOR_INPUTS.shape[0]\n",
    "    NUM_INPUT_NEURONS = XOR_INPUTS.shape[1]       # 2\n",
    "    NUM_HIDDEN_NEURONS = 2\n",
    "    NUM_OUTPUT_NEURONS = XOR_OUTPUTS.shape[1]     # 1\n",
    "\n",
    "    def __init__(self):\n",
    "        \"\"\"\n",
    "        Initialize the network. Weights and biases are initialized randomly using Gaussian distribution (mean=0, variance=1)\n",
    "        \"\"\"\n",
    "        # Build a list containing the number of neurons in each layer\n",
    "        self.layers = [self.NUM_INPUT_NEURONS, self.NUM_HIDDEN_NEURONS, self.NUM_OUTPUT_NEURONS]\n",
    "        self.num_layers = len(self.layers)\n",
    "        \n",
    "        # Initialize lists of zero ndarrays to hold the bias vectors and weight matrices for each layer\n",
    "        # (set no biases for the first (input) layer)\n",
    "        self.biases = [np.zeros((y, 1)) for y in self.layers[1:]]\n",
    "        self.weights = [np.random.randn(y, x) for x, y in zip(self.layers[:-1], self.layers[1:])]\n",
    "    \n",
    "    def __str__(self):\n",
    "        network = \"\"\n",
    "        layers = str(self.layers)\n",
    "        network = \"Layers: \" + layers\n",
    "        return network\n",
    "    \n",
    "    def display_Parameters(self):\n",
    "        \"\"\"\n",
    "        \"\"\"\n",
    "        for layer in range(len(self.weights)):\n",
    "            print(f\"Layer {layer}:\")\n",
    "            print(\"Weights:\")\n",
    "            print(self.weights)\n",
    "            print(\"\\nBiases:\")\n",
    "            print(self.biases)\n",
    "            print()\n",
    "\n",
    "    def feedforward(self, input):\n",
    "        \"\"\"\n",
    "        The feedforward behavior of the network.\n",
    "\n",
    "        Args:\n",
    "            - input: a (2x1) ndarray representing the binary input to the network\n",
    "        \n",
    "        Returns: a (1x1) ndarray representing the activation of the output neuron\n",
    "        \"\"\"\n",
    "        activation = input\n",
    "        for bias, Weight in zip(self.biases, self.weights):\n",
    "            activation = sigmoid(Weight @ activation + bias)\n",
    "        return activation\n",
    "\n",
    "    def predict(self, input):\n",
    "        \"\"\"\n",
    "        Uses the network to predict XOR.\n",
    "\n",
    "        Args:\n",
    "            - input: a (2x1) ndarray representing the binary input to the network\n",
    "        \n",
    "        Returns: a (1x1) ndarray representing a guess of the XOR output\n",
    "        \"\"\"\n",
    "        output = self.feedforward(input)\n",
    "        prediction = (output.squeeze() > 0.5) * 1   # guess '1' if output neuron is above 0.5 activation\n",
    "        return prediction\n",
    "    \n",
    "    def train(self, epochs, learn_rate):\n",
    "        \"\"\"\n",
    "        Train the network using gradient descent, and plot the cost vs. epochs.\n",
    "\n",
    "        Args:\n",
    "            - epochs: an integer, which is the number of training cycles\n",
    "            - learn_rate: a float, which is the step size for gradient descent\n",
    "        \"\"\"\n",
    "        costs = []\n",
    "        for _ in range(epochs):\n",
    "            del_b = [np.zeros(bias.shape) for bias in self.biases]\n",
    "            del_W = [np.zeros(Weight.shape) for Weight in self.weights]\n",
    "            training_costs = []\n",
    "\n",
    "            # Train on all XOR outputs\n",
    "            for input, output in zip(self.XOR_INPUTS, self.XOR_OUTPUTS):\n",
    "                input = input.reshape(2, 1)\n",
    "                delta_del_b, delta_del_W = self.backprop(input, output)\n",
    "                del_b = [db + ddb for db, ddb in zip(del_b, delta_del_b)]   # add change in gradient from one training example\n",
    "                del_W = [dW + ddW for dW, ddW in zip(del_W, delta_del_W)]   # add change in gradient from one training example\n",
    "                example_cost = cross_entropy_cost(self.feedforward(input), output).squeeze()\n",
    "                training_costs.append(example_cost)\n",
    "            \n",
    "            # Update the weights and biases\n",
    "            self.weights = [W - (learn_rate / self.NUM_EXAMPLES) * nW\n",
    "                            for W, nW in zip(self.weights, del_W)]\n",
    "            self.biases = [b - (learn_rate / self.NUM_EXAMPLES) * nb\n",
    "                            for b, nb in zip(self.biases, del_b)]\n",
    "            costs.append((1 / self.NUM_EXAMPLES) * sum(training_costs))\n",
    "\n",
    "        plt.plot(costs)\n",
    "        plt.xlabel(\"Epochs\")\n",
    "        plt.ylabel(\"Cost\")\n",
    "    \n",
    "    def backprop(self, input, output):\n",
    "        \"\"\"\n",
    "        Compute gradient of the cost function.\n",
    "\n",
    "        Args:\n",
    "            - input: an (2x1) ndarray, which holds the binary inputs to the network\n",
    "            - output: an ndarray containing a single binary value (0, 1), which is the expected output of XOR on the input\n",
    "        \n",
    "        Returns a tuple '(del_b, del_W)' representing the gradient of the cost function.\n",
    "            - 'del_b' and 'del_W' are lists of numpy arrays, which are the bias vector and weight matrix for each\n",
    "              layer of the network\n",
    "        \"\"\"\n",
    "        del_b = [np.zeros(bias.shape) for bias in self.biases]\n",
    "        del_W = [np.zeros(Weight.shape) for Weight in self.weights]\n",
    "\n",
    "        # Forward pass\n",
    "        activation = input\n",
    "        activations = [input]   # list to store activation vectors layer by layer\n",
    "        zs = [] # list to hold all z vectors, layer by layer (a = sigmoid(z))\n",
    "\n",
    "        for bias, Weight in zip(self.biases, self.weights):\n",
    "            z = Weight @ activation + bias\n",
    "            zs.append(z)\n",
    "            activation = sigmoid(z)\n",
    "            activations.append(activation)\n",
    "        \n",
    "        # Backward pass\n",
    "        error = activations[-1] - output\n",
    "        del_b[-1] = error   \n",
    "        del_W[-1] = error @ activations[-2].transpose() \n",
    "        \n",
    "        for layer in range(2, self.num_layers):\n",
    "            z = zs[-layer]  # Iterate through the layers backwards\n",
    "            sigprime_z = sigmoid_prime(z)\n",
    "            error = (self.weights[-layer + 1].transpose() @ error) * sigprime_z\n",
    "            del_b[-layer] = error\n",
    "            del_W[-layer] = error @ activations[-layer - 1].transpose()\n",
    "        gradient = (del_b, del_W)\n",
    "\n",
    "        return gradient\n",
    "\n",
    "def sigmoid(z):\n",
    "    \"\"\"The sigmoid function\"\"\"\n",
    "    return 1.0 / (1.0 + np.exp(-z))\n",
    "\n",
    "def sigmoid_prime(z):\n",
    "    \"\"\"Derivative of the sigmoid function\"\"\"\n",
    "    return sigmoid(z) * (1 - sigmoid(z))\n",
    "\n",
    "def cross_entropy_cost(a, y):\n",
    "        \"\"\"\n",
    "        The Cross-Entropy cost function.\n",
    "\n",
    "        Args *for this network*:\n",
    "            - y: a (1x1) ndarray, which is the expected XOR output\n",
    "            - a: a (1x1) ndarray, which contains the activation of the output neuron for one training example\n",
    "        \n",
    "        Returns the cross-entropy cost for the training example\n",
    "        \"\"\"\n",
    "        return np.sum(np.nan_to_num(-y * np.log(a) - (1 - y) * np.log(1 - a)))\n"
   ]
  },
  {
   "cell_type": "code",
   "execution_count": 16,
   "metadata": {},
   "outputs": [
    {
     "name": "stdout",
     "output_type": "stream",
     "text": [
      "Layer 0:\n",
      "Weights:\n",
      "[array([[-5.27899086e-04, -2.74901425e-01],\n",
      "       [-1.39285562e-01,  1.98468616e+00]]), array([[0.28210933, 0.76080866]])]\n",
      "\n",
      "Biases:\n",
      "[array([[0.],\n",
      "       [0.]]), array([[0.]])]\n",
      "\n",
      "Layer 1:\n",
      "Weights:\n",
      "[array([[-5.27899086e-04, -2.74901425e-01],\n",
      "       [-1.39285562e-01,  1.98468616e+00]]), array([[0.28210933, 0.76080866]])]\n",
      "\n",
      "Biases:\n",
      "[array([[0.],\n",
      "       [0.]]), array([[0.]])]\n",
      "\n"
     ]
    }
   ],
   "source": [
    "network = XOR_Net()\n",
    "\n",
    "# Show the parameters prior to training by gradient descent\n",
    "network.display_Parameters()"
   ]
  },
  {
   "cell_type": "code",
   "execution_count": 17,
   "metadata": {},
   "outputs": [
    {
     "name": "stdout",
     "output_type": "stream",
     "text": [
      "For [0 0], network output is: 0.6274888640591264\n",
      "Network predicts: 1\n",
      "For [1 0], network output is: 0.6212770288530577\n",
      "Network predicts: 1\n",
      "For [0 1], network output is: 0.6879763341643256\n",
      "Network predicts: 1\n",
      "For [1 1], network output is: 0.685416056582199\n",
      "Network predicts: 1\n"
     ]
    }
   ],
   "source": [
    "# Show the network's performance prior to training by gradient descent\n",
    "for input in network.XOR_INPUTS:\n",
    "    show_input = input\n",
    "    input = input.reshape(2,1)\n",
    "    output = network.feedforward(input).squeeze()\n",
    "    prediction = network.predict(input)\n",
    "    print(f\"For {show_input}, network output is: {output}\")\n",
    "    print(f\"Network predicts: {prediction}\")"
   ]
  },
  {
   "cell_type": "code",
   "execution_count": 18,
   "metadata": {},
   "outputs": [
    {
     "data": {
      "image/png": "[encoded data removed]",
      "text/plain": [
       "<Figure size 432x288 with 1 Axes>"
      ]
     },
     "metadata": {
      "needs_background": "light"
     },
     "output_type": "display_data"
    }
   ],
   "source": [
    "# Train the network and display average cost per epoch\n",
    "network.train(5000, .1)"
   ]
  },
  {
   "cell_type": "code",
   "execution_count": 19,
   "metadata": {},
   "outputs": [
    {
     "name": "stdout",
     "output_type": "stream",
     "text": [
      "Layer 0:\n",
      "Weights:\n",
      "[array([[2.62490605, 2.62065491],\n",
      "       [5.63753757, 5.61251607]]), array([[-5.72680091,  6.24722183]])]\n",
      "\n",
      "Biases:\n",
      "[array([[-3.85811591],\n",
      "       [-1.88899609]]), array([[-3.0047804]])]\n",
      "\n",
      "Layer 1:\n",
      "Weights:\n",
      "[array([[2.62490605, 2.62065491],\n",
      "       [5.63753757, 5.61251607]]), array([[-5.72680091,  6.24722183]])]\n",
      "\n",
      "Biases:\n",
      "[array([[-3.85811591],\n",
      "       [-1.88899609]]), array([[-3.0047804]])]\n",
      "\n"
     ]
    }
   ],
   "source": [
    "# Show the parameters after training by gradient descent\n",
    "network.display_Parameters()"
   ]
  },
  {
   "cell_type": "code",
   "execution_count": 20,
   "metadata": {},
   "outputs": [
    {
     "name": "stdout",
     "output_type": "stream",
     "text": [
      "For [0 0], network output is: 0.09091341717765264\n",
      "Network predicts: 0\n",
      "For [1 0], network output is: 0.8589517240975013\n",
      "Network predicts: 1\n",
      "For [0 1], network output is: 0.8590355705515283\n",
      "Network predicts: 1\n",
      "For [1 1], network output is: 0.2074129559867437\n",
      "Network predicts: 0\n"
     ]
    }
   ],
   "source": [
    "# Show the network's performance after training by gradient descent\n",
    "for input in network.XOR_INPUTS:\n",
    "    show_input = input\n",
    "    input = input.reshape(2,1)\n",
    "    output = network.feedforward(input).squeeze()\n",
    "    prediction = network.predict(input)\n",
    "    print(f\"For {show_input}, network output is: {output}\")\n",
    "    print(f\"Network predicts: {prediction}\")"
   ]
  }
 ],
 "metadata": {
  "kernelspec": {
   "display_name": "Python 3.9.12 ('base')",
   "language": "python",
   "name": "python3"
  },
  "language_info": {
   "codemirror_mode": {
    "name": "ipython",
    "version": 3
   },
   "file_extension": ".py",
   "mimetype": "text/x-python",
   "name": "python",
   "nbconvert_exporter": "python",
   "pygments_lexer": "ipython3",
   "version": "3.9.12"
  },
  "orig_nbformat": 4,
  "vscode": {
   "interpreter": {
    "hash": "3d0e52e45788a0b80e04c81cc4f919423dca9534a1b0aa541a9291bc3ae717e9"
   }
  }
 },
 "nbformat": 4,
 "nbformat_minor": 2
}
